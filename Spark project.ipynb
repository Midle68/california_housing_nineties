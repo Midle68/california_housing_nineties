{
 "cells": [
  {
   "cell_type": "markdown",
   "id": "4da74b63",
   "metadata": {},
   "source": [
    "<a name='introduction'></a>\n",
    "# Проект \"Рынок жилья в Калифорнии в 1990 году\"\n",
    "\n",
    "**Задача проекта**: В проекте нужно обучить модель линейной регрессии на данных о жилье в Калифорнии в 1990 году. На основе данных необходимо предсказать медианную стоимость дома в жилом массиве. Требутеся обучить модель и сделать предсказания на тестовой выборке. Для оценки качества модели используются метрики RMSE, MAE и R2.\n",
    "\n",
    "*Данные предоставлены Яндекс Практикумом.*\n",
    "\n",
    "**План проекта:**\n",
    "1. [Импортирование модулей и данных](#importing)\n",
    "2. [Предобработка данных](#preprocessing)\n",
    "3. [Обучение моделей](#training)\n",
    "    - [Модель с учетом всех признаков](#all_cols_model)\n",
    "    - [Модель с учетом только количественных признаков](#numeric_cols_model)\n",
    "4. [Анализ результатов](#analysis)"
   ]
  },
  {
   "cell_type": "markdown",
   "id": "4dd575dc",
   "metadata": {},
   "source": [
    "<a name='importing'></a>\n",
    "## 1. Импортирование модулей и данных"
   ]
  },
  {
   "cell_type": "code",
   "execution_count": 1,
   "id": "2d56fc50",
   "metadata": {},
   "outputs": [],
   "source": [
    "import numpy as np\n",
    "import pandas as pd\n",
    "\n",
    "from pyspark.sql import SparkSession\n",
    "import pyspark.sql.functions as F\n",
    "from pyspark.ml import Pipeline\n",
    "from pyspark.ml.feature import OneHotEncoder, StandardScaler, StringIndexer, VectorAssembler\n",
    "from pyspark.ml.regression import LinearRegression\n",
    "from pyspark.mllib.evaluation import RegressionMetrics"
   ]
  },
  {
   "cell_type": "code",
   "execution_count": 2,
   "id": "73f8e729",
   "metadata": {},
   "outputs": [],
   "source": [
    "spark = SparkSession.builder \\\n",
    "    .master(\"local\") \\\n",
    "    .appName('Real Estate Project') \\\n",
    "    .getOrCreate()"
   ]
  },
  {
   "cell_type": "code",
   "execution_count": 3,
   "id": "b3fcd4be",
   "metadata": {},
   "outputs": [
    {
     "name": "stderr",
     "output_type": "stream",
     "text": [
      "                                                                                \r"
     ]
    }
   ],
   "source": [
    "df_housing = spark.read.option('header', 'true').csv('/datasets/housing.csv', inferSchema=True)"
   ]
  },
  {
   "cell_type": "code",
   "execution_count": 4,
   "id": "f47697ff",
   "metadata": {
    "scrolled": false
   },
   "outputs": [
    {
     "name": "stdout",
     "output_type": "stream",
     "text": [
      "+---------+--------+------------------+-----------+--------------+----------+----------+-------------+------------------+---------------+\n",
      "|longitude|latitude|housing_median_age|total_rooms|total_bedrooms|population|households|median_income|median_house_value|ocean_proximity|\n",
      "+---------+--------+------------------+-----------+--------------+----------+----------+-------------+------------------+---------------+\n",
      "|  -122.23|   37.88|              41.0|      880.0|         129.0|     322.0|     126.0|       8.3252|          452600.0|       NEAR BAY|\n",
      "|  -122.22|   37.86|              21.0|     7099.0|        1106.0|    2401.0|    1138.0|       8.3014|          358500.0|       NEAR BAY|\n",
      "|  -122.24|   37.85|              52.0|     1467.0|         190.0|     496.0|     177.0|       7.2574|          352100.0|       NEAR BAY|\n",
      "|  -122.25|   37.85|              52.0|     1274.0|         235.0|     558.0|     219.0|       5.6431|          341300.0|       NEAR BAY|\n",
      "|  -122.25|   37.85|              52.0|     1627.0|         280.0|     565.0|     259.0|       3.8462|          342200.0|       NEAR BAY|\n",
      "+---------+--------+------------------+-----------+--------------+----------+----------+-------------+------------------+---------------+\n",
      "only showing top 5 rows\n",
      "\n"
     ]
    }
   ],
   "source": [
    "df_housing.show(5)"
   ]
  },
  {
   "cell_type": "markdown",
   "id": "53871372",
   "metadata": {
    "id": "53871372"
   },
   "source": [
    "<a name='preprocessing'></a>\n",
    "## 2. Предобработка данных\n",
    "[Вернуться во Введение](#introduction)"
   ]
  },
  {
   "cell_type": "code",
   "execution_count": 5,
   "id": "483fb26b",
   "metadata": {},
   "outputs": [
    {
     "name": "stdout",
     "output_type": "stream",
     "text": [
      "               column    type\n",
      "0           longitude  double\n",
      "1            latitude  double\n",
      "2  housing_median_age  double\n",
      "3         total_rooms  double\n",
      "4      total_bedrooms  double\n",
      "5          population  double\n",
      "6          households  double\n",
      "7       median_income  double\n",
      "8  median_house_value  double\n",
      "9     ocean_proximity  string\n"
     ]
    }
   ],
   "source": [
    "# Посмотрим на типы данных каждой из колонок рассматриваемого датасета.\n",
    "print(pd.DataFrame(df_housing.dtypes, columns=['column', 'type']).head(10))"
   ]
  },
  {
   "cell_type": "code",
   "execution_count": 6,
   "id": "56edcace",
   "metadata": {
    "scrolled": false
   },
   "outputs": [
    {
     "name": "stderr",
     "output_type": "stream",
     "text": [
      "                                                                                \r"
     ]
    },
    {
     "name": "stdout",
     "output_type": "stream",
     "text": [
      "+-------+-------------------+-----------------+------------------+------------------+------------------+\n",
      "|summary|          longitude|         latitude|housing_median_age|       total_rooms|    total_bedrooms|\n",
      "+-------+-------------------+-----------------+------------------+------------------+------------------+\n",
      "|  count|              20640|            20640|             20640|             20640|             20433|\n",
      "|   mean|-119.56970445736148| 35.6318614341087|28.639486434108527|2635.7630813953488| 537.8705525375618|\n",
      "| stddev|  2.003531723502584|2.135952397457101| 12.58555761211163|2181.6152515827944|421.38507007403115|\n",
      "|    min|            -124.35|            32.54|               1.0|               2.0|               1.0|\n",
      "|    max|            -114.31|            41.95|              52.0|           39320.0|            6445.0|\n",
      "+-------+-------------------+-----------------+------------------+------------------+------------------+\n",
      "\n",
      "+-------+------------------+-----------------+------------------+------------------+\n",
      "|summary|        population|       households|     median_income|median_house_value|\n",
      "+-------+------------------+-----------------+------------------+------------------+\n",
      "|  count|             20640|            20640|             20640|             20640|\n",
      "|   mean|1425.4767441860465|499.5396802325581|3.8706710029070246|206855.81690891474|\n",
      "| stddev|  1132.46212176534|382.3297528316098| 1.899821717945263|115395.61587441359|\n",
      "|    min|               3.0|              1.0|            0.4999|           14999.0|\n",
      "|    max|           35682.0|           6082.0|           15.0001|          500001.0|\n",
      "+-------+------------------+-----------------+------------------+------------------+\n",
      "\n"
     ]
    }
   ],
   "source": [
    "# Взгляним на различные описательные статистики датасета с помощью describe()\n",
    "# Для удобства будет считать смотреть по 5 и 4 признаков за раз соответственно. Иначе формат отображения почти нечитаем\n",
    "\n",
    "df_housing.select('longitude', 'latitude', 'housing_median_age', 'total_rooms', 'total_bedrooms').describe().show()\n",
    "\n",
    "df_housing.select('population', 'households', 'median_income', 'median_house_value').describe().show()"
   ]
  },
  {
   "cell_type": "code",
   "execution_count": 7,
   "id": "1a9f600b",
   "metadata": {},
   "outputs": [
    {
     "name": "stdout",
     "output_type": "stream",
     "text": [
      "Среднее количество комнат: 537.87\n"
     ]
    }
   ],
   "source": [
    "# Посчитаем среднее количество квартир в доме для заполнения пропущенных значений\n",
    "mean_bedrooms = df_housing.select(F.mean('total_bedrooms')).collect()[0][0]\n",
    "print(\"Среднее количество комнат: {:.2f}\".format(mean_bedrooms))\n",
    "\n",
    "df_housing = df_housing.na.fill(mean_bedrooms)"
   ]
  },
  {
   "cell_type": "code",
   "execution_count": 8,
   "id": "07f8dbcf",
   "metadata": {
    "scrolled": true
   },
   "outputs": [
    {
     "name": "stderr",
     "output_type": "stream",
     "text": [
      "[Stage 9:>                                                          (0 + 1) / 1]\r"
     ]
    },
    {
     "name": "stdout",
     "output_type": "stream",
     "text": [
      "+---------+--------+------------------+-----------+--------------+----------+----------+-------------+------------------+---------------+\n",
      "|longitude|latitude|housing_median_age|total_rooms|total_bedrooms|population|households|median_income|median_house_value|ocean_proximity|\n",
      "+---------+--------+------------------+-----------+--------------+----------+----------+-------------+------------------+---------------+\n",
      "|        0|       0|                 0|          0|             0|         0|         0|            0|                 0|              0|\n",
      "+---------+--------+------------------+-----------+--------------+----------+----------+-------------+------------------+---------------+\n",
      "\n"
     ]
    },
    {
     "name": "stderr",
     "output_type": "stream",
     "text": [
      "                                                                                \r"
     ]
    }
   ],
   "source": [
    "# Посмотрим на количество пропущенных значений по каждой из колонок\n",
    "columns = df_housing.columns\n",
    "\n",
    "df_housing.select([F.count(F.when(F.isnan(c) | F.col(c).isNull(), c)).alias(c) for c in columns]).show()"
   ]
  },
  {
   "cell_type": "code",
   "execution_count": 9,
   "id": "11eda674",
   "metadata": {},
   "outputs": [],
   "source": [
    "target = 'median_house_value'\n",
    "\n",
    "def create_pipeline(all_cols=True):\n",
    "    # Создадим модель линейной регрессии с помощью пайплана\n",
    "    # all_cols отвечает за (не)включение всех признаков\n",
    "    stages = []\n",
    "    \n",
    "    # При необходимости - добавление категориальных признаков в этапе обработки пайплайнов\n",
    "    if all_cols:\n",
    "        indexer = StringIndexer(inputCol='ocean_proximity', outputCol='ocean_proximity_idx')\n",
    "        encoder = OneHotEncoder(inputCol='ocean_proximity_idx', outputCol='categorical_features')\n",
    "        stages += [indexer, encoder]\n",
    "\n",
    "    # Осуществим масштабирование количественных признаков\n",
    "    numeric_cols = ['longitude', 'latitude', 'housing_median_age', 'total_rooms', \\\n",
    "                    'total_bedrooms', 'population', 'households', 'median_income']\n",
    "\n",
    "    numeric_assembler = VectorAssembler(inputCols=numeric_cols, outputCol='numeric_features')\n",
    "    stages += [numeric_assembler]\n",
    "\n",
    "    scaler = StandardScaler(inputCol='numeric_features', outputCol='numeric_features_scaled')\n",
    "    stages += [scaler]\n",
    "\n",
    "    # Соберем вместе категориальные и количественные признаки\n",
    "    all_features = ['numeric_features_scaled']\n",
    "    \n",
    "    # Добавление в обработку категориальных признаков, если требуется\n",
    "    if all_cols: \n",
    "        all_features += ['categorical_features']\n",
    "\n",
    "    final_assembler = VectorAssembler(inputCols=all_features, outputCol='features')\n",
    "    stages += [final_assembler]\n",
    "\n",
    "    lr = LinearRegression(maxIter=100, loss='squaredError', featuresCol='features', labelCol=target)\n",
    "    stages += [lr]\n",
    "    \n",
    "    return Pipeline(stages=stages)"
   ]
  },
  {
   "cell_type": "code",
   "execution_count": 10,
   "id": "39dcba67",
   "metadata": {
    "id": "bddb08c4"
   },
   "outputs": [
    {
     "name": "stderr",
     "output_type": "stream",
     "text": [
      "                                                                                \r"
     ]
    },
    {
     "name": "stdout",
     "output_type": "stream",
     "text": [
      "15500 5140\n"
     ]
    }
   ],
   "source": [
    "# Разделим датасет на тренировочную и тестовую выборки\n",
    "RANDOM_SEED = 42\n",
    "\n",
    "train_data, test_data = df_housing.randomSplit([.75, .25], seed=RANDOM_SEED)\n",
    "print(train_data.count(), test_data.count())"
   ]
  },
  {
   "cell_type": "markdown",
   "id": "9f0a82f3",
   "metadata": {
    "id": "9f0a82f3"
   },
   "source": [
    "<a name='training'></a>\n",
    "## 3. Обучение моделей\n",
    "[Вернуться во Введение](#introduction)"
   ]
  },
  {
   "cell_type": "markdown",
   "id": "a014eafb",
   "metadata": {},
   "source": [
    "<a name='all_cols_model'></a>\n",
    "### 3. 1. Модель с учетом всех признаков"
   ]
  },
  {
   "cell_type": "code",
   "execution_count": 11,
   "id": "54757293",
   "metadata": {
    "scrolled": false
   },
   "outputs": [
    {
     "name": "stderr",
     "output_type": "stream",
     "text": [
      "23/03/23 09:29:56 WARN Instrumentation: [cfd51b8f] regParam is zero, which might cause numerical instability and overfitting.\n",
      "23/03/23 09:29:56 WARN BLAS: Failed to load implementation from: com.github.fommil.netlib.NativeSystemBLAS\n",
      "23/03/23 09:29:56 WARN BLAS: Failed to load implementation from: com.github.fommil.netlib.NativeRefBLAS\n",
      "23/03/23 09:29:57 WARN LAPACK: Failed to load implementation from: com.github.fommil.netlib.NativeSystemLAPACK\n",
      "23/03/23 09:29:57 WARN LAPACK: Failed to load implementation from: com.github.fommil.netlib.NativeRefLAPACK\n",
      "                                                                                \r"
     ]
    }
   ],
   "source": [
    "pipeline = create_pipeline()\n",
    "lr_model = pipeline.fit(train_data)"
   ]
  },
  {
   "cell_type": "code",
   "execution_count": 12,
   "id": "e6a643f9",
   "metadata": {},
   "outputs": [
    {
     "name": "stdout",
     "output_type": "stream",
     "text": [
      "+------------------+------------------+\n",
      "|        prediction|median_house_value|\n",
      "+------------------+------------------+\n",
      "| 149740.0781819867|          103600.0|\n",
      "| 217279.7178173284|          106700.0|\n",
      "|124444.53000378748|           73200.0|\n",
      "|125874.49652704736|           78300.0|\n",
      "|194153.01353182225|           90100.0|\n",
      "| 151690.8616671795|           67000.0|\n",
      "|185550.46387161547|           86400.0|\n",
      "|163562.46115427604|           70500.0|\n",
      "| 142686.6072390182|           60000.0|\n",
      "|158727.83188629802|           75500.0|\n",
      "+------------------+------------------+\n",
      "only showing top 10 rows\n",
      "\n"
     ]
    }
   ],
   "source": [
    "pred = lr_model.transform(test_data)\n",
    "predictedLabels = pred.select('prediction', target)\n",
    "predictedLabels.show(10)"
   ]
  },
  {
   "cell_type": "code",
   "execution_count": 13,
   "id": "26498e27",
   "metadata": {
    "scrolled": true
   },
   "outputs": [
    {
     "name": "stdout",
     "output_type": "stream",
     "text": [
      "RMSE: 68486.08\n",
      "r2: 0.65\n",
      "MAE: 49640.62\n"
     ]
    }
   ],
   "source": [
    "train_summary = lr_model.stages[-1].summary\n",
    "print(\"RMSE: {:.2f}\".format(train_summary.rootMeanSquaredError))\n",
    "print(\"r2: {:.2f}\".format(train_summary.r2))\n",
    "print(\"MAE: {:.2f}\".format(train_summary.meanAbsoluteError))"
   ]
  },
  {
   "cell_type": "markdown",
   "id": "d3ba5504",
   "metadata": {},
   "source": [
    "Создадим далее модель линейной регрессии, которая будет учитывать только количественные признаки."
   ]
  },
  {
   "cell_type": "markdown",
   "id": "84ae9c92",
   "metadata": {},
   "source": [
    "<a name='numeric_cols_model'></a>\n",
    "### 3. 2. Модель с учетом только количественных признаков"
   ]
  },
  {
   "cell_type": "code",
   "execution_count": 14,
   "id": "aaa9d935",
   "metadata": {},
   "outputs": [
    {
     "name": "stderr",
     "output_type": "stream",
     "text": [
      "23/03/23 09:30:01 WARN Instrumentation: [5ad81511] regParam is zero, which might cause numerical instability and overfitting.\n"
     ]
    }
   ],
   "source": [
    "pipeline = create_pipeline(all_cols=False)\n",
    "lr_model = pipeline.fit(train_data)"
   ]
  },
  {
   "cell_type": "code",
   "execution_count": 15,
   "id": "c2a508ac",
   "metadata": {},
   "outputs": [
    {
     "name": "stdout",
     "output_type": "stream",
     "text": [
      "+------------------+------------------+\n",
      "|        prediction|median_house_value|\n",
      "+------------------+------------------+\n",
      "| 99974.57187516708|          103600.0|\n",
      "|190948.50971714407|          106700.0|\n",
      "|  73994.5681234384|           73200.0|\n",
      "| 77461.39460649993|           78300.0|\n",
      "|161772.96565529192|           90100.0|\n",
      "|119226.41383205727|           67000.0|\n",
      "| 155771.3090367224|           86400.0|\n",
      "|131221.58270589542|           70500.0|\n",
      "|111532.55901558604|           60000.0|\n",
      "|127280.60082717985|           75500.0|\n",
      "+------------------+------------------+\n",
      "only showing top 10 rows\n",
      "\n"
     ]
    }
   ],
   "source": [
    "pred = lr_model.transform(test_data)\n",
    "predictedLabels = pred.select('prediction', target)\n",
    "predictedLabels.show(10)"
   ]
  },
  {
   "cell_type": "code",
   "execution_count": 16,
   "id": "0831bd2f",
   "metadata": {},
   "outputs": [
    {
     "name": "stdout",
     "output_type": "stream",
     "text": [
      "RMSE: 69432.15\n",
      "r2: 0.64\n",
      "MAE: 50771.85\n"
     ]
    }
   ],
   "source": [
    "train_summary = lr_model.stages[-1].summary\n",
    "print(\"RMSE: {:.2f}\".format(train_summary.rootMeanSquaredError))\n",
    "print(\"r2: {:.2f}\".format(train_summary.r2))\n",
    "print(\"MAE: {:.2f}\".format(train_summary.meanAbsoluteError))"
   ]
  },
  {
   "cell_type": "code",
   "execution_count": 17,
   "id": "074179b4",
   "metadata": {},
   "outputs": [],
   "source": [
    "# Окончание Spark-сессии\n",
    "spark.stop()"
   ]
  },
  {
   "cell_type": "markdown",
   "id": "757fd103",
   "metadata": {
    "id": "757fd103"
   },
   "source": [
    "<a name='analysis'></a>\n",
    "# 4. Анализ результатов и выводы\n",
    "[Вернуться во Введение](#introduction)"
   ]
  },
  {
   "cell_type": "markdown",
   "id": "2acaf582",
   "metadata": {},
   "source": [
    "<br>**Результаты**:\n",
    "\n",
    "Разница в результатах в зависимости от использования модели, учитывающей все признаки - категориальные и количественные - и учитывающей только количественные, не существенна. Показатели средней квадратичной ошибки различаются на тысячу долларов - около 68 000 и 69 000 долл. соответственно. Вероятно, это связано с использованием определенного случайного сида при разделении датасета на тренировочную и тестовую выборки. Тем не менее, при использовании модели, учитывающей все признаки, значение RMSE и MAE ниже, чем в случае с моделью, учитывающей лишь количественные признаки.\n",
    "\n",
    "<br>**Вывод**:\n",
    "\n",
    "Ввиду этого рекомендуется использование модели, которая осуществляет учет как количественных, так и категориальных параметров."
   ]
  },
  {
   "cell_type": "code",
   "execution_count": null,
   "id": "7ecfe5ef",
   "metadata": {},
   "outputs": [],
   "source": []
  }
 ],
 "metadata": {
  "ExecuteTimeLog": [
   {
    "duration": 503,
    "start_time": "2023-03-17T15:52:45.078Z"
   },
   {
    "duration": 89,
    "start_time": "2023-03-17T15:54:47.132Z"
   },
   {
    "duration": 51,
    "start_time": "2023-03-17T15:54:59.813Z"
   },
   {
    "duration": 85,
    "start_time": "2023-03-17T15:55:01.667Z"
   },
   {
    "duration": 10,
    "start_time": "2023-03-17T15:55:38.850Z"
   },
   {
    "duration": 17410,
    "start_time": "2023-03-17T15:55:44.916Z"
   },
   {
    "duration": 11432,
    "start_time": "2023-03-17T15:56:54.796Z"
   },
   {
    "duration": 888,
    "start_time": "2023-03-17T15:57:06.231Z"
   },
   {
    "duration": 88,
    "start_time": "2023-03-17T15:59:16.897Z"
   },
   {
    "duration": 560,
    "start_time": "2023-03-17T16:00:09.552Z"
   },
   {
    "duration": 6,
    "start_time": "2023-03-17T16:00:19.625Z"
   },
   {
    "duration": 7,
    "start_time": "2023-03-17T16:00:22.725Z"
   },
   {
    "duration": 11,
    "start_time": "2023-03-17T16:01:27.572Z"
   },
   {
    "duration": 10,
    "start_time": "2023-03-17T16:02:20.496Z"
   },
   {
    "duration": 7517,
    "start_time": "2023-03-17T16:02:24.004Z"
   },
   {
    "duration": 3715,
    "start_time": "2023-03-17T16:03:40.415Z"
   },
   {
    "duration": 4,
    "start_time": "2023-03-17T16:04:32.606Z"
   },
   {
    "duration": 5,
    "start_time": "2023-03-17T16:04:36.009Z"
   },
   {
    "duration": 1506,
    "start_time": "2023-03-17T16:05:32.877Z"
   },
   {
    "duration": 270,
    "start_time": "2023-03-17T16:08:01.969Z"
   },
   {
    "duration": 63,
    "start_time": "2023-03-17T16:12:35.751Z"
   },
   {
    "duration": 129,
    "start_time": "2023-03-17T16:12:46.730Z"
   },
   {
    "duration": 25,
    "start_time": "2023-03-17T16:14:04.121Z"
   },
   {
    "duration": 4860,
    "start_time": "2023-03-17T16:14:10.525Z"
   },
   {
    "duration": 17,
    "start_time": "2023-03-17T16:14:50.600Z"
   },
   {
    "duration": 102,
    "start_time": "2023-03-17T16:14:55.219Z"
   },
   {
    "duration": 105,
    "start_time": "2023-03-17T16:15:16.656Z"
   },
   {
    "duration": 643,
    "start_time": "2023-03-17T16:15:49.806Z"
   },
   {
    "duration": 24,
    "start_time": "2023-03-17T16:15:54.746Z"
   },
   {
    "duration": 17,
    "start_time": "2023-03-17T16:15:58.705Z"
   },
   {
    "duration": 106,
    "start_time": "2023-03-17T16:16:58.620Z"
   },
   {
    "duration": 205,
    "start_time": "2023-03-17T16:17:15.602Z"
   },
   {
    "duration": 16,
    "start_time": "2023-03-17T16:18:05.307Z"
   },
   {
    "duration": 110,
    "start_time": "2023-03-17T16:18:12.699Z"
   },
   {
    "duration": 3,
    "start_time": "2023-03-17T16:21:50.596Z"
   },
   {
    "duration": 1658,
    "start_time": "2023-03-17T16:22:33.927Z"
   },
   {
    "duration": 105,
    "start_time": "2023-03-17T16:23:57.707Z"
   },
   {
    "duration": 14,
    "start_time": "2023-03-17T16:24:13.501Z"
   },
   {
    "duration": 502,
    "start_time": "2023-03-17T16:24:52.701Z"
   },
   {
    "duration": 375,
    "start_time": "2023-03-17T16:24:57.531Z"
   },
   {
    "duration": 100,
    "start_time": "2023-03-17T16:26:06.887Z"
   },
   {
    "duration": 778,
    "start_time": "2023-03-17T16:26:21.343Z"
   },
   {
    "duration": 17875,
    "start_time": "2023-03-17T16:26:22.123Z"
   },
   {
    "duration": 11716,
    "start_time": "2023-03-17T16:26:40.001Z"
   },
   {
    "duration": 996,
    "start_time": "2023-03-17T16:26:51.726Z"
   },
   {
    "duration": 205,
    "start_time": "2023-03-17T16:26:52.724Z"
   },
   {
    "duration": 1761,
    "start_time": "2023-03-17T16:26:52.932Z"
   },
   {
    "duration": 7430,
    "start_time": "2023-03-17T16:26:54.703Z"
   },
   {
    "duration": 120,
    "start_time": "2023-03-17T16:27:02.182Z"
   },
   {
    "duration": 0,
    "start_time": "2023-03-17T16:27:02.308Z"
   },
   {
    "duration": 2245,
    "start_time": "2023-03-17T16:37:01.550Z"
   },
   {
    "duration": 645,
    "start_time": "2023-03-17T16:37:05.862Z"
   },
   {
    "duration": 9,
    "start_time": "2023-03-17T16:38:27.341Z"
   },
   {
    "duration": 15,
    "start_time": "2023-03-17T16:38:47.308Z"
   },
   {
    "duration": 3,
    "start_time": "2023-03-17T16:39:11.006Z"
   },
   {
    "duration": 20,
    "start_time": "2023-03-17T16:40:09.975Z"
   },
   {
    "duration": 14,
    "start_time": "2023-03-17T16:40:28.291Z"
   },
   {
    "duration": 11,
    "start_time": "2023-03-17T16:40:38.000Z"
   },
   {
    "duration": 14,
    "start_time": "2023-03-17T16:40:48.440Z"
   },
   {
    "duration": 9,
    "start_time": "2023-03-17T16:40:51.453Z"
   },
   {
    "duration": 352,
    "start_time": "2023-03-17T16:40:53.944Z"
   },
   {
    "duration": 9,
    "start_time": "2023-03-17T16:42:23.262Z"
   },
   {
    "duration": 10,
    "start_time": "2023-03-17T16:42:25.859Z"
   },
   {
    "duration": 9522,
    "start_time": "2023-03-17T16:42:39.934Z"
   },
   {
    "duration": 5180,
    "start_time": "2023-03-17T16:42:53.411Z"
   },
   {
    "duration": 3,
    "start_time": "2023-03-17T16:43:33.671Z"
   },
   {
    "duration": 13,
    "start_time": "2023-03-17T16:45:21.092Z"
   },
   {
    "duration": 11,
    "start_time": "2023-03-17T16:45:38.994Z"
   },
   {
    "duration": 9,
    "start_time": "2023-03-17T16:45:52.296Z"
   },
   {
    "duration": 25,
    "start_time": "2023-03-17T16:46:12.871Z"
   },
   {
    "duration": 23,
    "start_time": "2023-03-17T16:47:33.171Z"
   },
   {
    "duration": 3,
    "start_time": "2023-03-17T16:47:49.814Z"
   },
   {
    "duration": 1625,
    "start_time": "2023-03-17T16:47:52.418Z"
   },
   {
    "duration": 55,
    "start_time": "2023-03-18T03:17:45.186Z"
   },
   {
    "duration": 743,
    "start_time": "2023-03-18T03:17:51.871Z"
   },
   {
    "duration": 17394,
    "start_time": "2023-03-18T03:17:52.616Z"
   },
   {
    "duration": 11177,
    "start_time": "2023-03-18T03:18:10.012Z"
   },
   {
    "duration": 1091,
    "start_time": "2023-03-18T03:18:21.195Z"
   },
   {
    "duration": 119,
    "start_time": "2023-03-18T03:18:22.288Z"
   },
   {
    "duration": 1876,
    "start_time": "2023-03-18T03:18:22.416Z"
   },
   {
    "duration": 7805,
    "start_time": "2023-03-18T03:18:24.299Z"
   },
   {
    "duration": 2305,
    "start_time": "2023-03-18T03:18:32.106Z"
   },
   {
    "duration": 874,
    "start_time": "2023-03-18T03:18:34.413Z"
   },
   {
    "duration": 28,
    "start_time": "2023-03-18T03:18:35.289Z"
   },
   {
    "duration": 569,
    "start_time": "2023-03-18T03:18:35.320Z"
   },
   {
    "duration": 225,
    "start_time": "2023-03-18T03:18:35.891Z"
   },
   {
    "duration": 19,
    "start_time": "2023-03-18T03:21:11.804Z"
   },
   {
    "duration": 1108,
    "start_time": "2023-03-18T03:21:51.496Z"
   },
   {
    "duration": 609,
    "start_time": "2023-03-18T03:30:29.426Z"
   },
   {
    "duration": 802,
    "start_time": "2023-03-18T03:30:46.806Z"
   },
   {
    "duration": 18285,
    "start_time": "2023-03-18T03:30:47.610Z"
   },
   {
    "duration": 12916,
    "start_time": "2023-03-18T03:31:05.897Z"
   },
   {
    "duration": 1009,
    "start_time": "2023-03-18T03:31:18.819Z"
   },
   {
    "duration": 110,
    "start_time": "2023-03-18T03:31:19.880Z"
   },
   {
    "duration": 1845,
    "start_time": "2023-03-18T03:31:19.992Z"
   },
   {
    "duration": 3051,
    "start_time": "2023-03-18T03:31:21.839Z"
   },
   {
    "duration": 3504,
    "start_time": "2023-03-18T03:31:24.896Z"
   },
   {
    "duration": 822,
    "start_time": "2023-03-18T03:31:28.402Z"
   },
   {
    "duration": 75,
    "start_time": "2023-03-18T03:31:29.228Z"
   },
   {
    "duration": 595,
    "start_time": "2023-03-18T03:31:29.304Z"
   },
   {
    "duration": 1850,
    "start_time": "2023-03-18T03:31:29.901Z"
   },
   {
    "duration": 16,
    "start_time": "2023-03-18T03:35:15.586Z"
   },
   {
    "duration": 14,
    "start_time": "2023-03-18T03:35:21.260Z"
   },
   {
    "duration": 67,
    "start_time": "2023-03-18T03:35:26.451Z"
   },
   {
    "duration": 27,
    "start_time": "2023-03-18T03:35:32.056Z"
   },
   {
    "duration": 218,
    "start_time": "2023-03-18T03:35:35.581Z"
   },
   {
    "duration": 976,
    "start_time": "2023-03-18T03:35:46.277Z"
   },
   {
    "duration": 22,
    "start_time": "2023-03-18T03:37:25.598Z"
   },
   {
    "duration": 7,
    "start_time": "2023-03-18T03:37:29.855Z"
   },
   {
    "duration": 357,
    "start_time": "2023-03-18T03:37:32.491Z"
   },
   {
    "duration": 664,
    "start_time": "2023-03-18T03:38:02.950Z"
   },
   {
    "duration": 10,
    "start_time": "2023-03-18T03:38:03.616Z"
   },
   {
    "duration": 18,
    "start_time": "2023-03-18T03:38:07.030Z"
   },
   {
    "duration": 585,
    "start_time": "2023-03-18T03:38:34.648Z"
   },
   {
    "duration": 7,
    "start_time": "2023-03-18T03:38:35.536Z"
   },
   {
    "duration": 337,
    "start_time": "2023-03-18T03:38:53.151Z"
   },
   {
    "duration": 862,
    "start_time": "2023-03-18T03:40:09.502Z"
   },
   {
    "duration": 19485,
    "start_time": "2023-03-18T03:40:10.367Z"
   },
   {
    "duration": 13689,
    "start_time": "2023-03-18T03:40:29.896Z"
   },
   {
    "duration": 1042,
    "start_time": "2023-03-18T03:40:43.587Z"
   },
   {
    "duration": 186,
    "start_time": "2023-03-18T03:40:44.631Z"
   },
   {
    "duration": 1995,
    "start_time": "2023-03-18T03:40:44.822Z"
   },
   {
    "duration": 2136,
    "start_time": "2023-03-18T03:40:46.823Z"
   },
   {
    "duration": 0,
    "start_time": "2023-03-18T03:40:48.993Z"
   },
   {
    "duration": 0,
    "start_time": "2023-03-18T03:40:48.995Z"
   },
   {
    "duration": 0,
    "start_time": "2023-03-18T03:40:48.996Z"
   },
   {
    "duration": 0,
    "start_time": "2023-03-18T03:40:49.006Z"
   },
   {
    "duration": 0,
    "start_time": "2023-03-18T03:40:49.007Z"
   },
   {
    "duration": 1,
    "start_time": "2023-03-18T03:40:49.008Z"
   },
   {
    "duration": 697,
    "start_time": "2023-03-18T03:41:50.550Z"
   },
   {
    "duration": 570,
    "start_time": "2023-03-18T03:42:02.463Z"
   },
   {
    "duration": 609,
    "start_time": "2023-03-18T03:42:07.815Z"
   },
   {
    "duration": 475,
    "start_time": "2023-03-18T03:42:16.245Z"
   },
   {
    "duration": 742,
    "start_time": "2023-03-18T03:42:19.072Z"
   },
   {
    "duration": 2141,
    "start_time": "2023-03-18T03:42:22.201Z"
   },
   {
    "duration": 2871,
    "start_time": "2023-03-18T03:42:29.048Z"
   },
   {
    "duration": 1287,
    "start_time": "2023-03-18T03:42:31.930Z"
   },
   {
    "duration": 22,
    "start_time": "2023-03-18T03:42:33.220Z"
   },
   {
    "duration": 451,
    "start_time": "2023-03-18T03:42:33.281Z"
   },
   {
    "duration": 2463,
    "start_time": "2023-03-18T03:42:33.734Z"
   },
   {
    "duration": 604,
    "start_time": "2023-03-18T03:42:42.056Z"
   },
   {
    "duration": 307,
    "start_time": "2023-03-18T03:43:55.650Z"
   },
   {
    "duration": 683,
    "start_time": "2023-03-18T03:44:01.318Z"
   },
   {
    "duration": 152,
    "start_time": "2023-03-18T03:44:18.404Z"
   },
   {
    "duration": 168,
    "start_time": "2023-03-18T03:45:37.723Z"
   },
   {
    "duration": 707,
    "start_time": "2023-03-18T03:45:46.223Z"
   },
   {
    "duration": 17492,
    "start_time": "2023-03-18T03:45:46.933Z"
   },
   {
    "duration": 11293,
    "start_time": "2023-03-18T03:46:04.428Z"
   },
   {
    "duration": 973,
    "start_time": "2023-03-18T03:46:15.727Z"
   },
   {
    "duration": 93,
    "start_time": "2023-03-18T03:46:16.706Z"
   },
   {
    "duration": 1703,
    "start_time": "2023-03-18T03:46:16.800Z"
   },
   {
    "duration": 1993,
    "start_time": "2023-03-18T03:46:18.506Z"
   },
   {
    "duration": 2321,
    "start_time": "2023-03-18T03:46:20.501Z"
   },
   {
    "duration": 3400,
    "start_time": "2023-03-18T03:46:22.884Z"
   },
   {
    "duration": 601,
    "start_time": "2023-03-18T03:46:26.288Z"
   },
   {
    "duration": 2203,
    "start_time": "2023-03-18T03:46:26.891Z"
   },
   {
    "duration": 924,
    "start_time": "2023-03-18T03:46:29.097Z"
   },
   {
    "duration": 807,
    "start_time": "2023-03-18T03:49:07.699Z"
   },
   {
    "duration": 17981,
    "start_time": "2023-03-18T03:49:08.510Z"
   },
   {
    "duration": 12205,
    "start_time": "2023-03-18T03:49:26.494Z"
   },
   {
    "duration": 981,
    "start_time": "2023-03-18T03:49:38.703Z"
   },
   {
    "duration": 40,
    "start_time": "2023-03-18T03:49:39.697Z"
   },
   {
    "duration": 1644,
    "start_time": "2023-03-18T03:49:39.781Z"
   },
   {
    "duration": 2029,
    "start_time": "2023-03-18T03:49:41.484Z"
   },
   {
    "duration": 2189,
    "start_time": "2023-03-18T03:49:43.515Z"
   },
   {
    "duration": 3377,
    "start_time": "2023-03-18T03:49:45.706Z"
   },
   {
    "duration": 628,
    "start_time": "2023-03-18T03:49:49.086Z"
   },
   {
    "duration": 2664,
    "start_time": "2023-03-18T03:49:49.717Z"
   },
   {
    "duration": 651,
    "start_time": "2023-03-18T03:49:52.383Z"
   },
   {
    "duration": 305,
    "start_time": "2023-03-18T03:49:53.036Z"
   },
   {
    "duration": 1349,
    "start_time": "2023-03-20T12:47:11.719Z"
   },
   {
    "duration": 33114,
    "start_time": "2023-03-20T12:47:13.070Z"
   },
   {
    "duration": 15739,
    "start_time": "2023-03-20T12:47:46.187Z"
   },
   {
    "duration": 1103,
    "start_time": "2023-03-20T12:48:01.927Z"
   },
   {
    "duration": 211,
    "start_time": "2023-03-20T12:48:03.033Z"
   },
   {
    "duration": 1905,
    "start_time": "2023-03-20T12:48:03.252Z"
   },
   {
    "duration": 2419,
    "start_time": "2023-03-20T12:48:05.197Z"
   },
   {
    "duration": 2381,
    "start_time": "2023-03-20T12:48:07.617Z"
   },
   {
    "duration": 4062,
    "start_time": "2023-03-20T12:48:09.999Z"
   },
   {
    "duration": 659,
    "start_time": "2023-03-20T12:48:14.100Z"
   },
   {
    "duration": 2963,
    "start_time": "2023-03-20T12:48:14.793Z"
   },
   {
    "duration": 970,
    "start_time": "2023-03-20T12:48:17.759Z"
   },
   {
    "duration": 536,
    "start_time": "2023-03-20T12:48:18.732Z"
   },
   {
    "duration": 443,
    "start_time": "2023-03-20T12:48:34.022Z"
   },
   {
    "duration": 521,
    "start_time": "2023-03-20T12:48:43.659Z"
   },
   {
    "duration": 20,
    "start_time": "2023-03-20T13:08:34.485Z"
   },
   {
    "duration": 18,
    "start_time": "2023-03-20T13:09:08.034Z"
   },
   {
    "duration": 12,
    "start_time": "2023-03-20T13:09:51.376Z"
   },
   {
    "duration": 4660,
    "start_time": "2023-03-20T13:10:32.032Z"
   },
   {
    "duration": 5,
    "start_time": "2023-03-20T13:11:29.080Z"
   },
   {
    "duration": 608,
    "start_time": "2023-03-20T13:13:15.256Z"
   },
   {
    "duration": 734,
    "start_time": "2023-03-20T13:15:49.876Z"
   },
   {
    "duration": 5,
    "start_time": "2023-03-20T13:16:05.302Z"
   },
   {
    "duration": 1805,
    "start_time": "2023-03-20T13:28:17.873Z"
   },
   {
    "duration": 19282,
    "start_time": "2023-03-20T13:28:19.682Z"
   },
   {
    "duration": 11979,
    "start_time": "2023-03-20T13:28:38.966Z"
   },
   {
    "duration": 1060,
    "start_time": "2023-03-20T13:28:50.947Z"
   },
   {
    "duration": 133,
    "start_time": "2023-03-20T13:28:52.010Z"
   },
   {
    "duration": 2015,
    "start_time": "2023-03-20T13:28:52.150Z"
   },
   {
    "duration": 2622,
    "start_time": "2023-03-20T13:28:54.168Z"
   },
   {
    "duration": 2599,
    "start_time": "2023-03-20T13:28:56.796Z"
   },
   {
    "duration": 3556,
    "start_time": "2023-03-20T13:28:59.400Z"
   },
   {
    "duration": 643,
    "start_time": "2023-03-20T13:29:02.962Z"
   },
   {
    "duration": 2652,
    "start_time": "2023-03-20T13:29:03.607Z"
   },
   {
    "duration": 835,
    "start_time": "2023-03-20T13:29:06.261Z"
   },
   {
    "duration": 4221,
    "start_time": "2023-03-20T13:29:07.098Z"
   },
   {
    "duration": 557,
    "start_time": "2023-03-20T13:29:11.325Z"
   },
   {
    "duration": 575,
    "start_time": "2023-03-20T13:29:22.959Z"
   },
   {
    "duration": 121,
    "start_time": "2023-03-20T13:29:59.773Z"
   },
   {
    "duration": 6185,
    "start_time": "2023-03-20T13:30:03.359Z"
   },
   {
    "duration": 1822,
    "start_time": "2023-03-20T13:31:01.021Z"
   },
   {
    "duration": 22,
    "start_time": "2023-03-20T13:33:39.426Z"
   },
   {
    "duration": 8,
    "start_time": "2023-03-20T13:33:43.738Z"
   },
   {
    "duration": 22,
    "start_time": "2023-03-20T13:33:46.117Z"
   },
   {
    "duration": 21,
    "start_time": "2023-03-20T13:36:12.308Z"
   },
   {
    "duration": 683,
    "start_time": "2023-03-20T13:36:28.154Z"
   },
   {
    "duration": 16976,
    "start_time": "2023-03-20T13:36:28.840Z"
   },
   {
    "duration": 11008,
    "start_time": "2023-03-20T13:36:45.821Z"
   },
   {
    "duration": 885,
    "start_time": "2023-03-20T13:36:56.831Z"
   },
   {
    "duration": 121,
    "start_time": "2023-03-20T13:36:57.718Z"
   },
   {
    "duration": 1817,
    "start_time": "2023-03-20T13:36:57.840Z"
   },
   {
    "duration": 1972,
    "start_time": "2023-03-20T13:36:59.659Z"
   },
   {
    "duration": 2266,
    "start_time": "2023-03-20T13:37:01.634Z"
   },
   {
    "duration": 4617,
    "start_time": "2023-03-20T13:37:03.902Z"
   },
   {
    "duration": 683,
    "start_time": "2023-03-20T13:37:08.522Z"
   },
   {
    "duration": 2127,
    "start_time": "2023-03-20T13:37:09.207Z"
   },
   {
    "duration": 780,
    "start_time": "2023-03-20T13:37:11.336Z"
   },
   {
    "duration": 4105,
    "start_time": "2023-03-20T13:37:12.118Z"
   },
   {
    "duration": 5603,
    "start_time": "2023-03-20T13:37:16.225Z"
   },
   {
    "duration": 1194,
    "start_time": "2023-03-20T13:37:21.830Z"
   },
   {
    "duration": 10,
    "start_time": "2023-03-20T13:37:23.026Z"
   },
   {
    "duration": 3117,
    "start_time": "2023-03-20T13:38:23.377Z"
   },
   {
    "duration": 771,
    "start_time": "2023-03-20T13:38:26.500Z"
   },
   {
    "duration": 105,
    "start_time": "2023-03-20T13:38:32.323Z"
   },
   {
    "duration": 4,
    "start_time": "2023-03-20T13:38:38.051Z"
   },
   {
    "duration": 3152,
    "start_time": "2023-03-20T13:39:14.157Z"
   },
   {
    "duration": 1026,
    "start_time": "2023-03-20T13:39:17.312Z"
   },
   {
    "duration": 16,
    "start_time": "2023-03-20T13:39:18.341Z"
   },
   {
    "duration": 2705,
    "start_time": "2023-03-20T13:39:30.521Z"
   },
   {
    "duration": 753,
    "start_time": "2023-03-20T13:39:33.234Z"
   },
   {
    "duration": 14,
    "start_time": "2023-03-20T13:39:34.003Z"
   },
   {
    "duration": 2813,
    "start_time": "2023-03-20T13:39:42.118Z"
   },
   {
    "duration": 716,
    "start_time": "2023-03-20T15:09:12.071Z"
   },
   {
    "duration": 15557,
    "start_time": "2023-03-20T15:09:12.789Z"
   },
   {
    "duration": 9215,
    "start_time": "2023-03-20T15:09:28.348Z"
   },
   {
    "duration": 719,
    "start_time": "2023-03-20T15:09:37.624Z"
   },
   {
    "duration": 109,
    "start_time": "2023-03-20T15:09:38.345Z"
   },
   {
    "duration": 1473,
    "start_time": "2023-03-20T15:09:38.456Z"
   },
   {
    "duration": 1506,
    "start_time": "2023-03-20T15:09:39.930Z"
   },
   {
    "duration": 1709,
    "start_time": "2023-03-20T15:09:41.439Z"
   },
   {
    "duration": 3075,
    "start_time": "2023-03-20T15:09:43.150Z"
   },
   {
    "duration": 226,
    "start_time": "2023-03-20T15:09:46.228Z"
   },
   {
    "duration": 0,
    "start_time": "2023-03-20T15:09:46.456Z"
   },
   {
    "duration": 0,
    "start_time": "2023-03-20T15:09:46.457Z"
   },
   {
    "duration": 0,
    "start_time": "2023-03-20T15:09:46.459Z"
   },
   {
    "duration": 0,
    "start_time": "2023-03-20T15:09:46.460Z"
   },
   {
    "duration": 0,
    "start_time": "2023-03-20T15:09:46.461Z"
   },
   {
    "duration": 0,
    "start_time": "2023-03-20T15:09:46.463Z"
   },
   {
    "duration": 42,
    "start_time": "2023-03-20T15:10:01.706Z"
   },
   {
    "duration": 269,
    "start_time": "2023-03-20T15:10:04.308Z"
   },
   {
    "duration": 0,
    "start_time": "2023-03-20T15:10:04.579Z"
   },
   {
    "duration": 134,
    "start_time": "2023-03-20T15:10:16.258Z"
   },
   {
    "duration": 1668,
    "start_time": "2023-03-20T15:12:23.257Z"
   },
   {
    "duration": 478,
    "start_time": "2023-03-20T15:12:34.950Z"
   },
   {
    "duration": 3454,
    "start_time": "2023-03-20T15:12:39.601Z"
   },
   {
    "duration": 4643,
    "start_time": "2023-03-20T15:12:43.123Z"
   },
   {
    "duration": 1112,
    "start_time": "2023-03-20T15:12:47.823Z"
   },
   {
    "duration": 8,
    "start_time": "2023-03-20T15:12:48.938Z"
   },
   {
    "duration": 9,
    "start_time": "2023-03-20T15:14:20.107Z"
   },
   {
    "duration": 515,
    "start_time": "2023-03-20T15:14:23.444Z"
   },
   {
    "duration": 2499,
    "start_time": "2023-03-20T15:24:59.548Z"
   },
   {
    "duration": 718,
    "start_time": "2023-03-20T15:25:02.380Z"
   },
   {
    "duration": 4,
    "start_time": "2023-03-20T15:25:03.571Z"
   },
   {
    "duration": 4,
    "start_time": "2023-03-20T15:25:08.655Z"
   },
   {
    "duration": 2092,
    "start_time": "2023-03-20T15:25:57.571Z"
   },
   {
    "duration": 774,
    "start_time": "2023-03-20T15:25:59.665Z"
   },
   {
    "duration": 5,
    "start_time": "2023-03-20T15:26:00.441Z"
   },
   {
    "duration": 4,
    "start_time": "2023-03-20T15:26:05.904Z"
   },
   {
    "duration": 638,
    "start_time": "2023-03-20T15:27:03.242Z"
   },
   {
    "duration": 30,
    "start_time": "2023-03-20T15:27:03.899Z"
   },
   {
    "duration": 8,
    "start_time": "2023-03-20T15:27:13.930Z"
   },
   {
    "duration": 2621,
    "start_time": "2023-03-20T15:27:18.307Z"
   },
   {
    "duration": 608,
    "start_time": "2023-03-20T15:27:20.930Z"
   },
   {
    "duration": 5,
    "start_time": "2023-03-20T15:27:21.540Z"
   },
   {
    "duration": 2696,
    "start_time": "2023-03-20T15:28:41.327Z"
   },
   {
    "duration": 830,
    "start_time": "2023-03-20T15:28:44.026Z"
   },
   {
    "duration": 5,
    "start_time": "2023-03-20T15:28:44.857Z"
   },
   {
    "duration": 616,
    "start_time": "2023-03-20T15:28:50.744Z"
   },
   {
    "duration": 15599,
    "start_time": "2023-03-20T15:28:51.362Z"
   },
   {
    "duration": 8594,
    "start_time": "2023-03-20T15:29:06.963Z"
   },
   {
    "duration": 686,
    "start_time": "2023-03-20T15:29:15.559Z"
   },
   {
    "duration": 106,
    "start_time": "2023-03-20T15:29:16.246Z"
   },
   {
    "duration": 1277,
    "start_time": "2023-03-20T15:29:16.354Z"
   },
   {
    "duration": 1620,
    "start_time": "2023-03-20T15:29:17.633Z"
   },
   {
    "duration": 1771,
    "start_time": "2023-03-20T15:29:19.255Z"
   },
   {
    "duration": 2519,
    "start_time": "2023-03-20T15:29:21.029Z"
   },
   {
    "duration": 106,
    "start_time": "2023-03-20T15:29:23.550Z"
   },
   {
    "duration": 1679,
    "start_time": "2023-03-20T15:29:23.658Z"
   },
   {
    "duration": 607,
    "start_time": "2023-03-20T15:29:25.340Z"
   },
   {
    "duration": 3891,
    "start_time": "2023-03-20T15:29:25.948Z"
   },
   {
    "duration": 4602,
    "start_time": "2023-03-20T15:29:29.841Z"
   },
   {
    "duration": 1016,
    "start_time": "2023-03-20T15:29:34.445Z"
   },
   {
    "duration": 5,
    "start_time": "2023-03-20T15:29:35.463Z"
   },
   {
    "duration": 1992,
    "start_time": "2023-03-20T15:31:07.050Z"
   },
   {
    "duration": 3184,
    "start_time": "2023-03-20T15:31:09.044Z"
   },
   {
    "duration": 1110,
    "start_time": "2023-03-20T15:31:12.230Z"
   },
   {
    "duration": 5,
    "start_time": "2023-03-20T15:31:13.343Z"
   },
   {
    "duration": 1345,
    "start_time": "2023-03-20T15:31:21.732Z"
   },
   {
    "duration": 2247,
    "start_time": "2023-03-20T15:31:23.079Z"
   },
   {
    "duration": 675,
    "start_time": "2023-03-20T15:31:25.328Z"
   },
   {
    "duration": 22,
    "start_time": "2023-03-20T15:31:26.005Z"
   },
   {
    "duration": 62,
    "start_time": "2023-03-20T15:31:56.959Z"
   },
   {
    "duration": 45,
    "start_time": "2023-03-20T15:32:22.103Z"
   },
   {
    "duration": 170,
    "start_time": "2023-03-20T15:34:40.215Z"
   },
   {
    "duration": 644,
    "start_time": "2023-03-20T15:36:40.015Z"
   },
   {
    "duration": 15195,
    "start_time": "2023-03-20T15:36:40.661Z"
   },
   {
    "duration": 9364,
    "start_time": "2023-03-20T15:36:55.859Z"
   },
   {
    "duration": 715,
    "start_time": "2023-03-20T15:37:05.226Z"
   },
   {
    "duration": 110,
    "start_time": "2023-03-20T15:37:05.942Z"
   },
   {
    "duration": 1314,
    "start_time": "2023-03-20T15:37:06.054Z"
   },
   {
    "duration": 1556,
    "start_time": "2023-03-20T15:37:07.370Z"
   },
   {
    "duration": 1495,
    "start_time": "2023-03-20T15:37:08.928Z"
   },
   {
    "duration": 2529,
    "start_time": "2023-03-20T15:37:10.425Z"
   },
   {
    "duration": 101,
    "start_time": "2023-03-20T15:37:13.021Z"
   },
   {
    "duration": 1511,
    "start_time": "2023-03-20T15:37:13.125Z"
   },
   {
    "duration": 591,
    "start_time": "2023-03-20T15:37:14.640Z"
   },
   {
    "duration": 3911,
    "start_time": "2023-03-20T15:37:15.233Z"
   },
   {
    "duration": 3981,
    "start_time": "2023-03-20T15:37:19.146Z"
   },
   {
    "duration": 1127,
    "start_time": "2023-03-20T15:37:23.129Z"
   },
   {
    "duration": 6,
    "start_time": "2023-03-20T15:37:24.257Z"
   },
   {
    "duration": 159,
    "start_time": "2023-03-20T15:37:24.264Z"
   },
   {
    "duration": 0,
    "start_time": "2023-03-20T15:37:24.424Z"
   },
   {
    "duration": 0,
    "start_time": "2023-03-20T15:37:24.426Z"
   },
   {
    "duration": 0,
    "start_time": "2023-03-20T15:37:24.428Z"
   },
   {
    "duration": 92,
    "start_time": "2023-03-20T15:37:59.006Z"
   },
   {
    "duration": 683,
    "start_time": "2023-03-20T15:38:48.962Z"
   },
   {
    "duration": 14989,
    "start_time": "2023-03-20T15:38:49.647Z"
   },
   {
    "duration": 9428,
    "start_time": "2023-03-20T15:39:04.638Z"
   },
   {
    "duration": 713,
    "start_time": "2023-03-20T15:39:14.121Z"
   },
   {
    "duration": 93,
    "start_time": "2023-03-20T15:39:14.836Z"
   },
   {
    "duration": 1408,
    "start_time": "2023-03-20T15:39:14.931Z"
   },
   {
    "duration": 1604,
    "start_time": "2023-03-20T15:39:16.341Z"
   },
   {
    "duration": 1703,
    "start_time": "2023-03-20T15:39:17.947Z"
   },
   {
    "duration": 2877,
    "start_time": "2023-03-20T15:39:19.651Z"
   },
   {
    "duration": 108,
    "start_time": "2023-03-20T15:39:22.532Z"
   },
   {
    "duration": 1584,
    "start_time": "2023-03-20T15:39:22.642Z"
   },
   {
    "duration": 614,
    "start_time": "2023-03-20T15:39:24.227Z"
   },
   {
    "duration": 3713,
    "start_time": "2023-03-20T15:39:24.843Z"
   },
   {
    "duration": 4501,
    "start_time": "2023-03-20T15:39:28.558Z"
   },
   {
    "duration": 1116,
    "start_time": "2023-03-20T15:39:33.122Z"
   },
   {
    "duration": 6,
    "start_time": "2023-03-20T15:39:34.241Z"
   },
   {
    "duration": 301,
    "start_time": "2023-03-20T15:39:34.248Z"
   },
   {
    "duration": 0,
    "start_time": "2023-03-20T15:39:34.551Z"
   },
   {
    "duration": 0,
    "start_time": "2023-03-20T15:39:34.553Z"
   },
   {
    "duration": 0,
    "start_time": "2023-03-20T15:39:34.554Z"
   },
   {
    "duration": 0,
    "start_time": "2023-03-20T15:39:34.555Z"
   },
   {
    "duration": 273,
    "start_time": "2023-03-20T15:40:01.914Z"
   },
   {
    "duration": 1828,
    "start_time": "2023-03-20T15:40:02.907Z"
   },
   {
    "duration": 2994,
    "start_time": "2023-03-20T15:40:04.738Z"
   },
   {
    "duration": 918,
    "start_time": "2023-03-20T15:40:07.735Z"
   },
   {
    "duration": 4,
    "start_time": "2023-03-20T15:40:08.655Z"
   },
   {
    "duration": 5,
    "start_time": "2023-03-20T15:45:31.785Z"
   },
   {
    "duration": 5,
    "start_time": "2023-03-20T15:46:28.250Z"
   },
   {
    "duration": 1427,
    "start_time": "2023-03-20T15:46:31.972Z"
   },
   {
    "duration": 2265,
    "start_time": "2023-03-20T15:46:33.401Z"
   },
   {
    "duration": 584,
    "start_time": "2023-03-20T15:46:35.668Z"
   },
   {
    "duration": 5,
    "start_time": "2023-03-20T15:46:36.255Z"
   },
   {
    "duration": 685,
    "start_time": "2023-03-20T15:48:11.068Z"
   },
   {
    "duration": 15194,
    "start_time": "2023-03-20T15:48:11.754Z"
   },
   {
    "duration": 8296,
    "start_time": "2023-03-20T15:48:26.950Z"
   },
   {
    "duration": 776,
    "start_time": "2023-03-20T15:48:35.248Z"
   },
   {
    "duration": 101,
    "start_time": "2023-03-20T15:48:36.026Z"
   },
   {
    "duration": 1087,
    "start_time": "2023-03-20T15:48:36.129Z"
   },
   {
    "duration": 1515,
    "start_time": "2023-03-20T15:48:37.223Z"
   },
   {
    "duration": 1618,
    "start_time": "2023-03-20T15:48:38.739Z"
   },
   {
    "duration": 2525,
    "start_time": "2023-03-20T15:48:40.423Z"
   },
   {
    "duration": 116,
    "start_time": "2023-03-20T15:48:42.952Z"
   },
   {
    "duration": 1522,
    "start_time": "2023-03-20T15:48:43.123Z"
   },
   {
    "duration": 597,
    "start_time": "2023-03-20T15:48:44.647Z"
   },
   {
    "duration": 3184,
    "start_time": "2023-03-20T15:48:45.245Z"
   },
   {
    "duration": 4322,
    "start_time": "2023-03-20T15:48:48.430Z"
   },
   {
    "duration": 1211,
    "start_time": "2023-03-20T15:48:52.755Z"
   },
   {
    "duration": 59,
    "start_time": "2023-03-20T15:48:53.968Z"
   },
   {
    "duration": 357,
    "start_time": "2023-03-20T15:48:54.029Z"
   },
   {
    "duration": 2134,
    "start_time": "2023-03-20T15:48:54.388Z"
   },
   {
    "duration": 3300,
    "start_time": "2023-03-20T15:48:56.524Z"
   },
   {
    "duration": 796,
    "start_time": "2023-03-20T15:48:59.826Z"
   },
   {
    "duration": 4,
    "start_time": "2023-03-20T15:49:00.624Z"
   },
   {
    "duration": 97,
    "start_time": "2023-03-21T19:14:19.477Z"
   },
   {
    "duration": 1059,
    "start_time": "2023-03-21T19:15:50.305Z"
   },
   {
    "duration": 23241,
    "start_time": "2023-03-21T19:15:51.370Z"
   },
   {
    "duration": 12051,
    "start_time": "2023-03-21T19:16:14.613Z"
   },
   {
    "duration": 1106,
    "start_time": "2023-03-21T19:16:26.666Z"
   },
   {
    "duration": 186,
    "start_time": "2023-03-21T19:16:27.775Z"
   },
   {
    "duration": 6095,
    "start_time": "2023-03-21T19:16:27.966Z"
   },
   {
    "duration": 1179,
    "start_time": "2023-03-21T19:16:34.063Z"
   },
   {
    "duration": 1643,
    "start_time": "2023-03-21T19:16:35.244Z"
   },
   {
    "duration": 3372,
    "start_time": "2023-03-21T19:16:36.888Z"
   },
   {
    "duration": 122,
    "start_time": "2023-03-21T19:16:40.262Z"
   },
   {
    "duration": 2164,
    "start_time": "2023-03-21T19:16:40.389Z"
   },
   {
    "duration": 714,
    "start_time": "2023-03-21T19:16:42.554Z"
   },
   {
    "duration": 5626,
    "start_time": "2023-03-21T19:16:43.270Z"
   },
   {
    "duration": 6807,
    "start_time": "2023-03-21T19:16:48.899Z"
   },
   {
    "duration": 1444,
    "start_time": "2023-03-21T19:16:55.747Z"
   },
   {
    "duration": 17,
    "start_time": "2023-03-21T19:16:57.197Z"
   },
   {
    "duration": 428,
    "start_time": "2023-03-21T19:16:57.216Z"
   },
   {
    "duration": 2955,
    "start_time": "2023-03-21T19:16:57.649Z"
   },
   {
    "duration": 3911,
    "start_time": "2023-03-21T19:17:00.605Z"
   },
   {
    "duration": 1187,
    "start_time": "2023-03-21T19:17:04.544Z"
   },
   {
    "duration": 23,
    "start_time": "2023-03-21T19:17:05.733Z"
   },
   {
    "duration": 146,
    "start_time": "2023-03-21T19:17:39.927Z"
   },
   {
    "duration": 516,
    "start_time": "2023-03-21T19:17:43.727Z"
   },
   {
    "duration": 675,
    "start_time": "2023-03-21T19:18:05.401Z"
   },
   {
    "duration": 549,
    "start_time": "2023-03-21T19:18:08.172Z"
   },
   {
    "duration": 1044,
    "start_time": "2023-03-21T19:18:19.148Z"
   },
   {
    "duration": 20006,
    "start_time": "2023-03-21T19:18:20.203Z"
   },
   {
    "duration": 11759,
    "start_time": "2023-03-21T19:18:40.211Z"
   },
   {
    "duration": 1076,
    "start_time": "2023-03-21T19:18:51.972Z"
   },
   {
    "duration": 96,
    "start_time": "2023-03-21T19:18:53.050Z"
   },
   {
    "duration": 5810,
    "start_time": "2023-03-21T19:18:53.156Z"
   },
   {
    "duration": 1523,
    "start_time": "2023-03-21T19:18:58.973Z"
   },
   {
    "duration": 1904,
    "start_time": "2023-03-21T19:19:00.498Z"
   },
   {
    "duration": 2786,
    "start_time": "2023-03-21T19:19:02.403Z"
   },
   {
    "duration": 149,
    "start_time": "2023-03-21T19:19:05.192Z"
   },
   {
    "duration": 2037,
    "start_time": "2023-03-21T19:19:05.343Z"
   },
   {
    "duration": 631,
    "start_time": "2023-03-21T19:19:07.382Z"
   },
   {
    "duration": 4271,
    "start_time": "2023-03-21T19:19:08.016Z"
   },
   {
    "duration": 5623,
    "start_time": "2023-03-21T19:19:12.289Z"
   },
   {
    "duration": 1249,
    "start_time": "2023-03-21T19:19:17.914Z"
   },
   {
    "duration": 17,
    "start_time": "2023-03-21T19:19:19.165Z"
   },
   {
    "duration": 546,
    "start_time": "2023-03-21T19:19:19.184Z"
   },
   {
    "duration": 2264,
    "start_time": "2023-03-21T19:19:19.732Z"
   },
   {
    "duration": 4163,
    "start_time": "2023-03-21T19:19:21.997Z"
   },
   {
    "duration": 1044,
    "start_time": "2023-03-21T19:19:26.162Z"
   },
   {
    "duration": 9,
    "start_time": "2023-03-21T19:19:27.207Z"
   },
   {
    "duration": 6,
    "start_time": "2023-03-21T19:19:27.217Z"
   },
   {
    "duration": 4226,
    "start_time": "2023-03-21T19:19:27.226Z"
   },
   {
    "duration": 2926,
    "start_time": "2023-03-21T19:19:32.298Z"
   },
   {
    "duration": 97,
    "start_time": "2023-03-21T19:20:53.523Z"
   },
   {
    "duration": 129,
    "start_time": "2023-03-21T19:20:57.268Z"
   },
   {
    "duration": 107,
    "start_time": "2023-03-21T19:21:04.402Z"
   },
   {
    "duration": 113,
    "start_time": "2023-03-21T19:21:08.088Z"
   },
   {
    "duration": 164,
    "start_time": "2023-03-21T19:21:10.931Z"
   },
   {
    "duration": 118,
    "start_time": "2023-03-21T19:21:14.173Z"
   },
   {
    "duration": 138,
    "start_time": "2023-03-21T19:21:24.414Z"
   },
   {
    "duration": 15,
    "start_time": "2023-03-21T19:21:44.103Z"
   },
   {
    "duration": 21,
    "start_time": "2023-03-21T19:21:47.026Z"
   },
   {
    "duration": 22,
    "start_time": "2023-03-21T19:21:55.506Z"
   },
   {
    "duration": 287,
    "start_time": "2023-03-21T19:21:58.860Z"
   },
   {
    "duration": 866,
    "start_time": "2023-03-21T19:22:05.621Z"
   },
   {
    "duration": 17,
    "start_time": "2023-03-21T19:22:53.455Z"
   },
   {
    "duration": 1889,
    "start_time": "2023-03-21T19:23:45.109Z"
   },
   {
    "duration": 828,
    "start_time": "2023-03-21T19:24:14.999Z"
   },
   {
    "duration": 17925,
    "start_time": "2023-03-21T19:24:15.830Z"
   },
   {
    "duration": 12203,
    "start_time": "2023-03-21T19:24:33.760Z"
   },
   {
    "duration": 900,
    "start_time": "2023-03-21T19:24:45.967Z"
   },
   {
    "duration": 130,
    "start_time": "2023-03-21T19:24:46.870Z"
   },
   {
    "duration": 49,
    "start_time": "2023-03-21T19:24:47.002Z"
   },
   {
    "duration": 5049,
    "start_time": "2023-03-21T19:24:47.053Z"
   },
   {
    "duration": 1290,
    "start_time": "2023-03-21T19:24:52.104Z"
   },
   {
    "duration": 2015,
    "start_time": "2023-03-21T19:24:53.395Z"
   },
   {
    "duration": 3065,
    "start_time": "2023-03-21T19:24:55.414Z"
   },
   {
    "duration": 173,
    "start_time": "2023-03-21T19:24:58.484Z"
   },
   {
    "duration": 1912,
    "start_time": "2023-03-21T19:24:58.659Z"
   },
   {
    "duration": 729,
    "start_time": "2023-03-21T19:25:00.573Z"
   },
   {
    "duration": 4952,
    "start_time": "2023-03-21T19:25:01.346Z"
   },
   {
    "duration": 5403,
    "start_time": "2023-03-21T19:25:06.341Z"
   },
   {
    "duration": 1327,
    "start_time": "2023-03-21T19:25:11.753Z"
   },
   {
    "duration": 86,
    "start_time": "2023-03-21T19:25:13.081Z"
   },
   {
    "duration": 610,
    "start_time": "2023-03-21T19:25:13.171Z"
   },
   {
    "duration": 2288,
    "start_time": "2023-03-21T19:25:13.782Z"
   },
   {
    "duration": 4131,
    "start_time": "2023-03-21T19:25:16.072Z"
   },
   {
    "duration": 1047,
    "start_time": "2023-03-21T19:25:20.205Z"
   },
   {
    "duration": 19,
    "start_time": "2023-03-21T19:25:21.253Z"
   },
   {
    "duration": 5,
    "start_time": "2023-03-21T19:25:21.283Z"
   },
   {
    "duration": 29,
    "start_time": "2023-03-21T19:36:07.109Z"
   },
   {
    "duration": 4,
    "start_time": "2023-03-21T19:36:12.403Z"
   },
   {
    "duration": 4,
    "start_time": "2023-03-21T19:36:32.604Z"
   },
   {
    "duration": 59,
    "start_time": "2023-03-21T19:39:00.137Z"
   },
   {
    "duration": 73,
    "start_time": "2023-03-21T19:39:26.209Z"
   },
   {
    "duration": 816,
    "start_time": "2023-03-22T12:45:32.397Z"
   },
   {
    "duration": 19677,
    "start_time": "2023-03-22T12:45:33.215Z"
   },
   {
    "duration": 8366,
    "start_time": "2023-03-22T12:45:52.894Z"
   },
   {
    "duration": 663,
    "start_time": "2023-03-22T12:46:01.262Z"
   },
   {
    "duration": 111,
    "start_time": "2023-03-22T12:46:01.928Z"
   },
   {
    "duration": 3487,
    "start_time": "2023-03-22T12:46:02.041Z"
   },
   {
    "duration": 804,
    "start_time": "2023-03-22T12:46:05.530Z"
   },
   {
    "duration": 1299,
    "start_time": "2023-03-22T12:46:06.336Z"
   },
   {
    "duration": 2014,
    "start_time": "2023-03-22T12:46:07.636Z"
   },
   {
    "duration": 190,
    "start_time": "2023-03-22T12:46:09.653Z"
   },
   {
    "duration": 0,
    "start_time": "2023-03-22T12:46:09.844Z"
   },
   {
    "duration": 0,
    "start_time": "2023-03-22T12:46:09.845Z"
   },
   {
    "duration": 0,
    "start_time": "2023-03-22T12:46:09.846Z"
   },
   {
    "duration": 0,
    "start_time": "2023-03-22T12:46:09.847Z"
   },
   {
    "duration": 0,
    "start_time": "2023-03-22T12:46:09.848Z"
   },
   {
    "duration": 0,
    "start_time": "2023-03-22T12:46:09.848Z"
   },
   {
    "duration": 0,
    "start_time": "2023-03-22T12:46:09.850Z"
   },
   {
    "duration": 0,
    "start_time": "2023-03-22T12:46:09.851Z"
   },
   {
    "duration": 0,
    "start_time": "2023-03-22T12:46:09.852Z"
   },
   {
    "duration": 270,
    "start_time": "2023-03-22T12:46:40.912Z"
   },
   {
    "duration": 1916,
    "start_time": "2023-03-22T12:46:42.833Z"
   },
   {
    "duration": 27,
    "start_time": "2023-03-22T12:46:48.482Z"
   },
   {
    "duration": 6,
    "start_time": "2023-03-22T12:46:54.172Z"
   },
   {
    "duration": 3904,
    "start_time": "2023-03-22T12:47:12.231Z"
   },
   {
    "duration": 0,
    "start_time": "2023-03-22T12:47:16.137Z"
   },
   {
    "duration": 23,
    "start_time": "2023-03-22T12:48:53.635Z"
   },
   {
    "duration": 2242,
    "start_time": "2023-03-22T12:48:56.406Z"
   },
   {
    "duration": 0,
    "start_time": "2023-03-22T12:48:58.650Z"
   },
   {
    "duration": 8,
    "start_time": "2023-03-22T12:48:58.752Z"
   },
   {
    "duration": 34,
    "start_time": "2023-03-22T12:49:40.107Z"
   },
   {
    "duration": 5541,
    "start_time": "2023-03-22T12:49:43.329Z"
   },
   {
    "duration": 860,
    "start_time": "2023-03-22T12:49:48.872Z"
   },
   {
    "duration": 11,
    "start_time": "2023-03-22T12:49:51.297Z"
   },
   {
    "duration": 8,
    "start_time": "2023-03-22T12:50:47.542Z"
   },
   {
    "duration": 6,
    "start_time": "2023-03-22T12:50:59.508Z"
   },
   {
    "duration": 4,
    "start_time": "2023-03-22T12:51:08.271Z"
   },
   {
    "duration": 32,
    "start_time": "2023-03-22T12:54:43.918Z"
   },
   {
    "duration": 10,
    "start_time": "2023-03-22T12:54:50.426Z"
   },
   {
    "duration": 434,
    "start_time": "2023-03-22T12:55:03.694Z"
   },
   {
    "duration": 37,
    "start_time": "2023-03-22T12:55:08.568Z"
   },
   {
    "duration": 4,
    "start_time": "2023-03-22T12:56:47.313Z"
   },
   {
    "duration": 6,
    "start_time": "2023-03-22T12:56:49.608Z"
   },
   {
    "duration": 25,
    "start_time": "2023-03-22T12:56:51.928Z"
   },
   {
    "duration": 9,
    "start_time": "2023-03-22T12:56:54.337Z"
   },
   {
    "duration": 3838,
    "start_time": "2023-03-22T12:57:19.936Z"
   },
   {
    "duration": 695,
    "start_time": "2023-03-22T12:57:23.776Z"
   },
   {
    "duration": 5,
    "start_time": "2023-03-22T12:57:24.473Z"
   },
   {
    "duration": 1301,
    "start_time": "2023-03-22T12:58:00.383Z"
   },
   {
    "duration": 0,
    "start_time": "2023-03-22T12:58:01.686Z"
   },
   {
    "duration": 0,
    "start_time": "2023-03-22T12:58:01.688Z"
   },
   {
    "duration": 3,
    "start_time": "2023-03-22T12:58:59.850Z"
   },
   {
    "duration": 8,
    "start_time": "2023-03-22T12:59:11.969Z"
   },
   {
    "duration": 3200,
    "start_time": "2023-03-22T12:59:16.227Z"
   },
   {
    "duration": 659,
    "start_time": "2023-03-22T12:59:19.429Z"
   },
   {
    "duration": 39,
    "start_time": "2023-03-22T12:59:20.090Z"
   },
   {
    "duration": 2443,
    "start_time": "2023-03-22T12:59:20.130Z"
   },
   {
    "duration": 592,
    "start_time": "2023-03-22T12:59:22.574Z"
   },
   {
    "duration": 5,
    "start_time": "2023-03-22T12:59:23.167Z"
   },
   {
    "duration": 7,
    "start_time": "2023-03-22T13:02:41.066Z"
   },
   {
    "duration": 810,
    "start_time": "2023-03-22T13:04:17.435Z"
   },
   {
    "duration": 14679,
    "start_time": "2023-03-22T13:04:18.247Z"
   },
   {
    "duration": 8303,
    "start_time": "2023-03-22T13:04:32.928Z"
   },
   {
    "duration": 691,
    "start_time": "2023-03-22T13:04:41.233Z"
   },
   {
    "duration": 34,
    "start_time": "2023-03-22T13:04:41.926Z"
   },
   {
    "duration": 3394,
    "start_time": "2023-03-22T13:04:41.961Z"
   },
   {
    "duration": 829,
    "start_time": "2023-03-22T13:04:45.423Z"
   },
   {
    "duration": 1420,
    "start_time": "2023-03-22T13:04:46.323Z"
   },
   {
    "duration": 7,
    "start_time": "2023-03-22T13:04:47.745Z"
   },
   {
    "duration": 1718,
    "start_time": "2023-03-22T13:04:47.823Z"
   },
   {
    "duration": 6886,
    "start_time": "2023-03-22T13:04:49.543Z"
   },
   {
    "duration": 893,
    "start_time": "2023-03-22T13:04:56.430Z"
   },
   {
    "duration": 6,
    "start_time": "2023-03-22T13:04:57.324Z"
   },
   {
    "duration": 3203,
    "start_time": "2023-03-22T13:04:57.331Z"
   },
   {
    "duration": 558,
    "start_time": "2023-03-22T13:05:00.535Z"
   },
   {
    "duration": 31,
    "start_time": "2023-03-22T13:05:01.094Z"
   },
   {
    "duration": 31,
    "start_time": "2023-03-22T13:05:01.126Z"
   },
   {
    "duration": 656,
    "start_time": "2023-03-22T13:10:17.285Z"
   },
   {
    "duration": 15087,
    "start_time": "2023-03-22T13:10:17.944Z"
   },
   {
    "duration": 8021,
    "start_time": "2023-03-22T13:10:33.033Z"
   },
   {
    "duration": 682,
    "start_time": "2023-03-22T13:10:41.056Z"
   },
   {
    "duration": 97,
    "start_time": "2023-03-22T13:10:41.739Z"
   },
   {
    "duration": 3610,
    "start_time": "2023-03-22T13:10:41.838Z"
   },
   {
    "duration": 877,
    "start_time": "2023-03-22T13:10:45.450Z"
   },
   {
    "duration": 1609,
    "start_time": "2023-03-22T13:10:46.329Z"
   },
   {
    "duration": 7,
    "start_time": "2023-03-22T13:10:47.939Z"
   },
   {
    "duration": 1778,
    "start_time": "2023-03-22T13:10:47.948Z"
   },
   {
    "duration": 7601,
    "start_time": "2023-03-22T13:10:49.728Z"
   },
   {
    "duration": 807,
    "start_time": "2023-03-22T13:10:57.331Z"
   },
   {
    "duration": 6,
    "start_time": "2023-03-22T13:10:58.140Z"
   },
   {
    "duration": 3323,
    "start_time": "2023-03-22T13:10:58.147Z"
   },
   {
    "duration": 756,
    "start_time": "2023-03-22T13:11:01.472Z"
   },
   {
    "duration": 5,
    "start_time": "2023-03-22T13:11:02.230Z"
   },
   {
    "duration": 61,
    "start_time": "2023-03-22T13:11:02.237Z"
   },
   {
    "duration": 196,
    "start_time": "2023-03-22T13:19:07.175Z"
   },
   {
    "duration": 10,
    "start_time": "2023-03-23T09:29:13.449Z"
   },
   {
    "duration": 680,
    "start_time": "2023-03-23T09:29:16.747Z"
   },
   {
    "duration": 15540,
    "start_time": "2023-03-23T09:29:17.429Z"
   },
   {
    "duration": 8762,
    "start_time": "2023-03-23T09:29:32.971Z"
   },
   {
    "duration": 718,
    "start_time": "2023-03-23T09:29:41.735Z"
   },
   {
    "duration": 95,
    "start_time": "2023-03-23T09:29:42.456Z"
   },
   {
    "duration": 4086,
    "start_time": "2023-03-23T09:29:42.553Z"
   },
   {
    "duration": 980,
    "start_time": "2023-03-23T09:29:46.642Z"
   },
   {
    "duration": 1531,
    "start_time": "2023-03-23T09:29:47.624Z"
   },
   {
    "duration": 80,
    "start_time": "2023-03-23T09:29:49.161Z"
   },
   {
    "duration": 2298,
    "start_time": "2023-03-23T09:29:49.243Z"
   },
   {
    "duration": 7484,
    "start_time": "2023-03-23T09:29:51.542Z"
   },
   {
    "duration": 812,
    "start_time": "2023-03-23T09:29:59.028Z"
   },
   {
    "duration": 11,
    "start_time": "2023-03-23T09:29:59.842Z"
   },
   {
    "duration": 3076,
    "start_time": "2023-03-23T09:29:59.855Z"
   },
   {
    "duration": 752,
    "start_time": "2023-03-23T09:30:02.933Z"
   },
   {
    "duration": 7,
    "start_time": "2023-03-23T09:30:03.687Z"
   },
   {
    "duration": 548,
    "start_time": "2023-03-23T09:30:03.696Z"
   }
  ],
  "colab": {
   "name": "PySparkSprint.ipynb",
   "provenance": []
  },
  "kernelspec": {
   "display_name": "Python 3",
   "language": "python",
   "name": "python3"
  },
  "language_info": {
   "codemirror_mode": {
    "name": "ipython",
    "version": 3
   },
   "file_extension": ".py",
   "mimetype": "text/x-python",
   "name": "python",
   "nbconvert_exporter": "python",
   "pygments_lexer": "ipython3",
   "version": "3.8.8"
  },
  "toc": {
   "base_numbering": 1,
   "nav_menu": {},
   "number_sections": true,
   "sideBar": true,
   "skip_h1_title": true,
   "title_cell": "Table of Contents",
   "title_sidebar": "Contents",
   "toc_cell": false,
   "toc_position": {},
   "toc_section_display": true,
   "toc_window_display": false
  }
 },
 "nbformat": 4,
 "nbformat_minor": 5
}
